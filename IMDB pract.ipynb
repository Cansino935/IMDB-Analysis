{
 "cells": [
  {
   "cell_type": "markdown",
   "id": "b1932460",
   "metadata": {},
   "source": [
    "## Ejercicio de base de datos de IMDBb"
   ]
  },
  {
   "cell_type": "markdown",
   "id": "7b46c254",
   "metadata": {},
   "source": [
    "**Importacion de librerias**"
   ]
  },
  {
   "cell_type": "code",
   "execution_count": 1,
   "id": "6a4857cc",
   "metadata": {},
   "outputs": [],
   "source": [
    "import pandas as pd\n",
    "import matplotlib.pyplot as plt\n",
    "import numpy as np"
   ]
  },
  {
   "cell_type": "markdown",
   "id": "6a804690",
   "metadata": {},
   "source": [
    "**Importacion de la base de datos IMDB**"
   ]
  },
  {
   "cell_type": "code",
   "execution_count": 2,
   "id": "cb6657af",
   "metadata": {},
   "outputs": [
    {
     "name": "stdout",
     "output_type": "stream",
     "text": [
      "     Rank                    Title                     Genre  \\\n",
      "0       1  Guardians of the Galaxy   Action,Adventure,Sci-Fi   \n",
      "1       2               Prometheus  Adventure,Mystery,Sci-Fi   \n",
      "2       3                    Split           Horror,Thriller   \n",
      "3       4                     Sing   Animation,Comedy,Family   \n",
      "4       5            Suicide Squad  Action,Adventure,Fantasy   \n",
      "..    ...                      ...                       ...   \n",
      "995   996     Secret in Their Eyes       Crime,Drama,Mystery   \n",
      "996   997          Hostel: Part II                    Horror   \n",
      "997   998   Step Up 2: The Streets       Drama,Music,Romance   \n",
      "998   999             Search Party          Adventure,Comedy   \n",
      "999  1000               Nine Lives     Comedy,Family,Fantasy   \n",
      "\n",
      "                                           Description              Director  \\\n",
      "0    A group of intergalactic criminals are forced ...            James Gunn   \n",
      "1    Following clues to the origin of mankind, a te...          Ridley Scott   \n",
      "2    Three girls are kidnapped by a man with a diag...    M. Night Shyamalan   \n",
      "3    In a city of humanoid animals, a hustling thea...  Christophe Lourdelet   \n",
      "4    A secret government agency recruits some of th...            David Ayer   \n",
      "..                                                 ...                   ...   \n",
      "995  A tight-knit team of rising investigators, alo...             Billy Ray   \n",
      "996  Three American college students studying abroa...              Eli Roth   \n",
      "997  Romantic sparks occur between two dance studen...            Jon M. Chu   \n",
      "998  A pair of friends embark on a mission to reuni...        Scot Armstrong   \n",
      "999  A stuffy businessman finds himself trapped ins...      Barry Sonnenfeld   \n",
      "\n",
      "                                                Actors  Year  \\\n",
      "0    Chris Pratt, Vin Diesel, Bradley Cooper, Zoe S...  2014   \n",
      "1    Noomi Rapace, Logan Marshall-Green, Michael Fa...  2012   \n",
      "2    James McAvoy, Anya Taylor-Joy, Haley Lu Richar...  2016   \n",
      "3    Matthew McConaughey,Reese Witherspoon, Seth Ma...  2016   \n",
      "4    Will Smith, Jared Leto, Margot Robbie, Viola D...  2016   \n",
      "..                                                 ...   ...   \n",
      "995  Chiwetel Ejiofor, Nicole Kidman, Julia Roberts...  2015   \n",
      "996  Lauren German, Heather Matarazzo, Bijou Philli...  2007   \n",
      "997  Robert Hoffman, Briana Evigan, Cassie Ventura,...  2008   \n",
      "998  Adam Pally, T.J. Miller, Thomas Middleditch,Sh...  2014   \n",
      "999  Kevin Spacey, Jennifer Garner, Robbie Amell,Ch...  2016   \n",
      "\n",
      "     Runtime (Minutes)  Rating   Votes  Revenue (Millions)  Metascore  \n",
      "0                  121     8.1  757074              333.13       76.0  \n",
      "1                  124     7.0  485820              126.46       65.0  \n",
      "2                  117     7.3  157606              138.12       62.0  \n",
      "3                  108     7.2   60545              270.32       59.0  \n",
      "4                  123     6.2  393727              325.02       40.0  \n",
      "..                 ...     ...     ...                 ...        ...  \n",
      "995                111     6.2   27585                 NaN       45.0  \n",
      "996                 94     5.5   73152               17.54       46.0  \n",
      "997                 98     6.2   70699               58.01       50.0  \n",
      "998                 93     5.6    4881                 NaN       22.0  \n",
      "999                 87     5.3   12435               19.64       11.0  \n",
      "\n",
      "[1000 rows x 12 columns]\n"
     ]
    }
   ],
   "source": [
    "# Realizamos la importacion de una base de datos sobre peliculas en IMDB\n",
    "data = pd.read_csv(\"C:\\\\Users\\\\Cansi\\\\Documents\\\\Verano Cientifico II\\\\Peliculas\\\\IMDB-Movie-Data.csv\")\n",
    "print(data)"
   ]
  },
  {
   "cell_type": "code",
   "execution_count": 3,
   "id": "7f1bcd8a",
   "metadata": {},
   "outputs": [
    {
     "data": {
      "text/plain": [
       "Index(['Rank', 'Title', 'Genre', 'Description', 'Director', 'Actors', 'Year',\n",
       "       'Runtime (Minutes)', 'Rating', 'Votes', 'Revenue (Millions)',\n",
       "       'Metascore'],\n",
       "      dtype='object')"
      ]
     },
     "execution_count": 3,
     "metadata": {},
     "output_type": "execute_result"
    }
   ],
   "source": [
    "# Conocer el nombre de las columnas\n",
    "data.columns"
   ]
  },
  {
   "cell_type": "code",
   "execution_count": 4,
   "id": "7cd8f209",
   "metadata": {},
   "outputs": [
    {
     "data": {
      "text/plain": [
       "Rank                    int64\n",
       "Title                  object\n",
       "Genre                  object\n",
       "Description            object\n",
       "Director               object\n",
       "Actors                 object\n",
       "Year                    int64\n",
       "Runtime (Minutes)       int64\n",
       "Rating                float64\n",
       "Votes                   int64\n",
       "Revenue (Millions)    float64\n",
       "Metascore             float64\n",
       "dtype: object"
      ]
     },
     "execution_count": 4,
     "metadata": {},
     "output_type": "execute_result"
    }
   ],
   "source": [
    "# Tipo \n",
    "data.dtypes "
   ]
  },
  {
   "cell_type": "markdown",
   "id": "e46fef18",
   "metadata": {},
   "source": [
    "**Convertimos nuestro archivo en un Data Frame**"
   ]
  },
  {
   "cell_type": "code",
   "execution_count": 5,
   "id": "782f0011",
   "metadata": {},
   "outputs": [
    {
     "name": "stdout",
     "output_type": "stream",
     "text": [
      "     Rank                    Title                     Genre  \\\n",
      "0       1  Guardians of the Galaxy   Action,Adventure,Sci-Fi   \n",
      "1       2               Prometheus  Adventure,Mystery,Sci-Fi   \n",
      "2       3                    Split           Horror,Thriller   \n",
      "3       4                     Sing   Animation,Comedy,Family   \n",
      "4       5            Suicide Squad  Action,Adventure,Fantasy   \n",
      "..    ...                      ...                       ...   \n",
      "995   996     Secret in Their Eyes       Crime,Drama,Mystery   \n",
      "996   997          Hostel: Part II                    Horror   \n",
      "997   998   Step Up 2: The Streets       Drama,Music,Romance   \n",
      "998   999             Search Party          Adventure,Comedy   \n",
      "999  1000               Nine Lives     Comedy,Family,Fantasy   \n",
      "\n",
      "                                           Description              Director  \\\n",
      "0    A group of intergalactic criminals are forced ...            James Gunn   \n",
      "1    Following clues to the origin of mankind, a te...          Ridley Scott   \n",
      "2    Three girls are kidnapped by a man with a diag...    M. Night Shyamalan   \n",
      "3    In a city of humanoid animals, a hustling thea...  Christophe Lourdelet   \n",
      "4    A secret government agency recruits some of th...            David Ayer   \n",
      "..                                                 ...                   ...   \n",
      "995  A tight-knit team of rising investigators, alo...             Billy Ray   \n",
      "996  Three American college students studying abroa...              Eli Roth   \n",
      "997  Romantic sparks occur between two dance studen...            Jon M. Chu   \n",
      "998  A pair of friends embark on a mission to reuni...        Scot Armstrong   \n",
      "999  A stuffy businessman finds himself trapped ins...      Barry Sonnenfeld   \n",
      "\n",
      "                                                Actors  Year  \\\n",
      "0    Chris Pratt, Vin Diesel, Bradley Cooper, Zoe S...  2014   \n",
      "1    Noomi Rapace, Logan Marshall-Green, Michael Fa...  2012   \n",
      "2    James McAvoy, Anya Taylor-Joy, Haley Lu Richar...  2016   \n",
      "3    Matthew McConaughey,Reese Witherspoon, Seth Ma...  2016   \n",
      "4    Will Smith, Jared Leto, Margot Robbie, Viola D...  2016   \n",
      "..                                                 ...   ...   \n",
      "995  Chiwetel Ejiofor, Nicole Kidman, Julia Roberts...  2015   \n",
      "996  Lauren German, Heather Matarazzo, Bijou Philli...  2007   \n",
      "997  Robert Hoffman, Briana Evigan, Cassie Ventura,...  2008   \n",
      "998  Adam Pally, T.J. Miller, Thomas Middleditch,Sh...  2014   \n",
      "999  Kevin Spacey, Jennifer Garner, Robbie Amell,Ch...  2016   \n",
      "\n",
      "     Runtime (Minutes)  Rating   Votes  Revenue (Millions)  Metascore  \n",
      "0                  121     8.1  757074              333.13       76.0  \n",
      "1                  124     7.0  485820              126.46       65.0  \n",
      "2                  117     7.3  157606              138.12       62.0  \n",
      "3                  108     7.2   60545              270.32       59.0  \n",
      "4                  123     6.2  393727              325.02       40.0  \n",
      "..                 ...     ...     ...                 ...        ...  \n",
      "995                111     6.2   27585                 NaN       45.0  \n",
      "996                 94     5.5   73152               17.54       46.0  \n",
      "997                 98     6.2   70699               58.01       50.0  \n",
      "998                 93     5.6    4881                 NaN       22.0  \n",
      "999                 87     5.3   12435               19.64       11.0  \n",
      "\n",
      "[1000 rows x 12 columns]\n"
     ]
    }
   ],
   "source": [
    "df = pd.DataFrame(data)\n",
    "print(df)"
   ]
  },
  {
   "cell_type": "markdown",
   "id": "170a0d7c",
   "metadata": {},
   "source": [
    "**Podemos obtener la película de mayor duracion**"
   ]
  },
  {
   "cell_type": "code",
   "execution_count": 6,
   "id": "535b5ced",
   "metadata": {},
   "outputs": [
    {
     "name": "stdout",
     "output_type": "stream",
     "text": [
      "El mayor tiempo de duracion de una pelicula es: 3.183333333333333  horas\n"
     ]
    }
   ],
   "source": [
    "ant = df[\"Runtime (Minutes)\"].max()\n",
    "print(\"El mayor tiempo de duracion de una pelicula es:\",ant/60,\" horas\")"
   ]
  },
  {
   "cell_type": "markdown",
   "id": "6f6398fb",
   "metadata": {},
   "source": [
    "**Pelicula con mayor duracion**"
   ]
  },
  {
   "cell_type": "code",
   "execution_count": 10,
   "id": "d8a0c93a",
   "metadata": {},
   "outputs": [
    {
     "name": "stdout",
     "output_type": "stream",
     "text": [
      "828  es la posicion de la pelciula en el Data Frame\n",
      "Grindhouse  con una duracion de:  3.183333333333333  horas\n"
     ]
    }
   ],
   "source": [
    "print(df[\"Runtime (Minutes)\"].idxmax(),\" es la posicion de la pelciula en el Data Frame\")\n",
    "print(df.at[(df['Runtime (Minutes)'].idxmax(),'Title')],\" con una duracion de: \",ant/60,\" horas\")"
   ]
  },
  {
   "cell_type": "markdown",
   "id": "4570fa93",
   "metadata": {},
   "source": [
    "**Pelicula con menor duracion**"
   ]
  },
  {
   "cell_type": "code",
   "execution_count": 12,
   "id": "1020dda2",
   "metadata": {},
   "outputs": [
    {
     "name": "stdout",
     "output_type": "stream",
     "text": [
      "66 es la posicion de la pelicula con menor duracion\n",
      "La menor duracion de una pelicula es de  1.1  horas\n",
      "La pelicula con menor duracion es  Ma vie de Courgette  con una duracion de  1.1  horas\n"
     ]
    }
   ],
   "source": [
    "men = df[\"Runtime (Minutes)\"].min()\n",
    "print(men, \"es la posicion de la pelicula con menor duracion\") # Comprobamos el menor de los datos\n",
    "print(\"La menor duracion de una pelicula es de \",men/60,\" horas\")\n",
    "print(\"La pelicula con menor duracion es \",df.at[(df[\"Runtime (Minutes)\"].idxmin(),\"Title\")],\" con una duracion de \",men/60,\" horas\")"
   ]
  },
  {
   "cell_type": "markdown",
   "id": "d9cdf051",
   "metadata": {},
   "source": [
    "**La pelicula que mayor ingresos ha realizado**"
   ]
  },
  {
   "cell_type": "code",
   "execution_count": 13,
   "id": "5433a487",
   "metadata": {},
   "outputs": [
    {
     "name": "stdout",
     "output_type": "stream",
     "text": [
      "50  es la posicion de la pelicula con mayores ganancias\n",
      "La mayor ganancia en un pelicula es de:  Star Wars: Episode VII - The Force Awakens  con un total de  936.63  millones de dolar\n"
     ]
    }
   ],
   "source": [
    "gan = df[\"Revenue (Millions)\"].idxmax()\n",
    "print(gan, \" es la posicion de la pelicula con mayores ganancias\")\n",
    "print(\"La mayor ganancia en un pelicula es de: \",df.at[(df[\"Revenue (Millions)\"].idxmax(),\"Title\")],\" con un total de \",df[\"Revenue (Millions)\"].max(),\" millones de dolar\")"
   ]
  },
  {
   "cell_type": "markdown",
   "id": "ead1389e",
   "metadata": {},
   "source": [
    "**Mayo taquilla en el año que introduzca el usuario**\n",
    "- Lo que se hace aqui es que el programa interactua con el usuario preguntadole por  un año entre (2006 y 2016), para lo cual la variable asignada es \"año\" (esta misma es un str en un inicio).\n",
    "- Para que dato introducido por el usuario pueda trabajar como condicional en la base de datos en necesario convetirlo a un \"int\" por ello que es hacemos \"año_it = int(año)\""
   ]
  },
  {
   "cell_type": "code",
   "execution_count": 14,
   "id": "55138aa4",
   "metadata": {},
   "outputs": [
    {
     "name": "stdout",
     "output_type": "stream",
     "text": [
      "2006\n",
      "Que año es el que quieres saber la pelicula más taquillera, debe de ser entre 2006 y 2016\n",
      "El año que usted ha elegido es:  2006\n"
     ]
    }
   ],
   "source": [
    "año = input()\n",
    "print(\"Que año es el que quieres saber la pelicula más taquillera, debe de ser entre 2006 y 2016\")\n",
    "print(\"El año que usted ha elegido es: \",año)"
   ]
  },
  {
   "cell_type": "code",
   "execution_count": 15,
   "id": "8545adda",
   "metadata": {},
   "outputs": [],
   "source": [
    "año_it = int(año)"
   ]
  },
  {
   "cell_type": "code",
   "execution_count": 16,
   "id": "63ccf9ce",
   "metadata": {},
   "outputs": [
    {
     "name": "stdout",
     "output_type": "stream",
     "text": [
      "2006  es el año que usted ha elegido\n"
     ]
    }
   ],
   "source": [
    "print(año_it,\" es el año que usted ha elegido\") # Asegurarnos"
   ]
  },
  {
   "cell_type": "code",
   "execution_count": 17,
   "id": "a7bde71a",
   "metadata": {},
   "outputs": [
    {
     "data": {
      "text/plain": [
       "2006     44\n",
       "2007     53\n",
       "2008     52\n",
       "2009     51\n",
       "2010     60\n",
       "2011     63\n",
       "2012     64\n",
       "2013     91\n",
       "2014     98\n",
       "2015    127\n",
       "2016    297\n",
       "Name: Year, dtype: int64"
      ]
     },
     "execution_count": 17,
     "metadata": {},
     "output_type": "execute_result"
    }
   ],
   "source": [
    "df.Year.value_counts().sort_index()"
   ]
  },
  {
   "cell_type": "code",
   "execution_count": 18,
   "id": "c62c41fb",
   "metadata": {
    "scrolled": true
   },
   "outputs": [
    {
     "name": "stdout",
     "output_type": "stream",
     "text": [
      "     Rank                                        Title  \\\n",
      "64     65                                 The Prestige   \n",
      "78     79   Pirates of the Caribbean: Dead Man's Chest   \n",
      "99    100                                 The Departed   \n",
      "113   114                                          300   \n",
      "164   165                                Casino Royale   \n",
      "221   222                                         Cars   \n",
      "230   231                              Pan's Labyrinth   \n",
      "232   233                                   Apocalypto   \n",
      "246   247                              Children of Men   \n",
      "297   298                        The Devil Wears Prada   \n",
      "308   309        The Fast and the Furious: Tokyo Drift   \n",
      "320   321                                      Step Up   \n",
      "445   446                                  Silent Hill   \n",
      "471   472                             Marie Antoinette   \n",
      "476   477                          The Lives of Others   \n",
      "530   531                                  A Good Year   \n",
      "532   533                                      Deja Vu   \n",
      "550   551                                 The Break-Up   \n",
      "559   560                                    Idiocracy   \n",
      "573   574                         Little Miss Sunshine   \n",
      "593   594                                She's the Man   \n",
      "626   627                        X-Men: The Last Stand   \n",
      "632   633                                     The Host   \n",
      "640   641                     The Pursuit of Happyness   \n",
      "669   670                                Blood Diamond   \n",
      "715   716                                   Happy Feet   \n",
      "727   728                              The Illusionist   \n",
      "733   734                            The Da Vinci Code   \n",
      "773   774                            Lady in the Water   \n",
      "774   775                                 The Fountain   \n",
      "796   797                                  Rescue Dawn   \n",
      "815   816                                   Inside Man   \n",
      "830   831                                 Rocky Balboa   \n",
      "858   859                          The Hills Have Eyes   \n",
      "869   870                      Mission: Impossible III   \n",
      "885   886                                        Babel   \n",
      "897   898                                     The Fall   \n",
      "901   902                            Snakes on a Plane   \n",
      "908   909                                      Slither   \n",
      "918   919             Perfume: The Story of a Murderer   \n",
      "924   925                             Superman Returns   \n",
      "935   936  Talladega Nights: The Ballad of Ricky Bobby   \n",
      "959   960                          Lucky Number Slevin   \n",
      "965   966                                Inland Empire   \n",
      "\n",
      "                          Genre  \\\n",
      "64         Drama,Mystery,Sci-Fi   \n",
      "78     Action,Adventure,Fantasy   \n",
      "99         Crime,Drama,Thriller   \n",
      "113          Action,Fantasy,War   \n",
      "164   Action,Adventure,Thriller   \n",
      "221  Animation,Adventure,Comedy   \n",
      "230           Drama,Fantasy,War   \n",
      "232      Action,Adventure,Drama   \n",
      "246       Drama,Sci-Fi,Thriller   \n",
      "297                Comedy,Drama   \n",
      "308       Action,Crime,Thriller   \n",
      "320           Crime,Drama,Music   \n",
      "445    Adventure,Horror,Mystery   \n",
      "471     Biography,Drama,History   \n",
      "476              Drama,Thriller   \n",
      "530        Comedy,Drama,Romance   \n",
      "532      Action,Sci-Fi,Thriller   \n",
      "550        Comedy,Drama,Romance   \n",
      "559     Adventure,Comedy,Sci-Fi   \n",
      "573                Comedy,Drama   \n",
      "593        Comedy,Romance,Sport   \n",
      "626    Action,Adventure,Fantasy   \n",
      "632         Comedy,Drama,Horror   \n",
      "640             Biography,Drama   \n",
      "669    Adventure,Drama,Thriller   \n",
      "715     Animation,Comedy,Family   \n",
      "727       Drama,Mystery,Romance   \n",
      "733            Mystery,Thriller   \n",
      "773       Drama,Fantasy,Mystery   \n",
      "774                Drama,Sci-Fi   \n",
      "796   Adventure,Biography,Drama   \n",
      "815         Crime,Drama,Mystery   \n",
      "830                 Drama,Sport   \n",
      "858                      Horror   \n",
      "869   Action,Adventure,Thriller   \n",
      "885                       Drama   \n",
      "897      Adventure,Comedy,Drama   \n",
      "901      Action,Adventure,Crime   \n",
      "908        Comedy,Horror,Sci-Fi   \n",
      "918         Crime,Drama,Fantasy   \n",
      "924     Action,Adventure,Sci-Fi   \n",
      "935         Action,Comedy,Sport   \n",
      "959         Crime,Drama,Mystery   \n",
      "965      Drama,Mystery,Thriller   \n",
      "\n",
      "                                           Description  \\\n",
      "64   Two stage magicians engage in competitive one-...   \n",
      "78   Jack Sparrow races to recover the heart of Dav...   \n",
      "99   An undercover cop and a mole in the police att...   \n",
      "113  King Leonidas of Sparta and a force of 300 men...   \n",
      "164  Armed with a licence to kill, Secret Agent Jam...   \n",
      "221  A hot-shot race-car named Lightning McQueen ge...   \n",
      "230  In the falangist Spain of 1944, the bookish yo...   \n",
      "232  As the Mayan kingdom faces its decline, the ru...   \n",
      "246  In 2027, in a chaotic world in which women hav...   \n",
      "297  A smart but sensible new graduate lands a job ...   \n",
      "308  A teenager becomes a major competitor in the w...   \n",
      "320  Tyler Gage receives the opportunity of a lifet...   \n",
      "445  A woman, Rose, goes in search for her adopted ...   \n",
      "471  The retelling of France's iconic but ill-fated...   \n",
      "476  In 1984 East Berlin, an agent of the secret po...   \n",
      "530  A British investment broker inherits his uncle...   \n",
      "532  After a ferry is bombed in New Orleans, an A.T...   \n",
      "550  In a bid to keep their luxurious condo from th...   \n",
      "559  Private Joe Bauers, the definition of \"average...   \n",
      "573  A family determined to get their young daughte...   \n",
      "593  When her brother decides to ditch for a couple...   \n",
      "626  When a cure is found to treat mutations, lines...   \n",
      "632  A monster emerges from Seoul's Han River and f...   \n",
      "640  A struggling salesman takes custody of his son...   \n",
      "669  A fisherman, a smuggler, and a syndicate of bu...   \n",
      "715  Into the world of the Emperor Penguins, who fi...   \n",
      "727  In turn-of-the-century Vienna, a magician uses...   \n",
      "733  A murder inside the Louvre and clues in Da Vin...   \n",
      "773  Apartment building superintendent Cleveland He...   \n",
      "774  As a modern-day scientist, Tommy is struggling...   \n",
      "796  A U.S. fighter pilot's epic struggle of surviv...   \n",
      "815  A police detective, a bank robber, and a high-...   \n",
      "830  Thirty years after the ring of the first bell,...   \n",
      "858  A suburban American family is being stalked by...   \n",
      "869  Agent Ethan Hunt comes into conflict with a da...   \n",
      "885  Tragedy strikes a married couple on vacation i...   \n",
      "897  In a hospital on the outskirts of 1920s Los An...   \n",
      "901  An FBI agent takes on a plane full of deadly a...   \n",
      "908  A small town is taken over by an alien plague,...   \n",
      "918  Jean-Baptiste Grenouille, born with a superior...   \n",
      "924  Superman reappears after a long absence, but i...   \n",
      "935  #1 NASCAR driver Ricky Bobby stays atop the he...   \n",
      "959  A case of mistaken identity lands Slevin into ...   \n",
      "965  As an actress starts to adopt the persona of h...   \n",
      "\n",
      "                             Director  \\\n",
      "64                  Christopher Nolan   \n",
      "78                     Gore Verbinski   \n",
      "99                    Martin Scorsese   \n",
      "113                       Zack Snyder   \n",
      "164                   Martin Campbell   \n",
      "221                     John Lasseter   \n",
      "230                Guillermo del Toro   \n",
      "232                        Mel Gibson   \n",
      "246                    Alfonso Cuarón   \n",
      "297                     David Frankel   \n",
      "308                        Justin Lin   \n",
      "320                     Anne Fletcher   \n",
      "445                   Christophe Gans   \n",
      "471                     Sofia Coppola   \n",
      "476  Florian Henckel von Donnersmarck   \n",
      "530                      Ridley Scott   \n",
      "532                        Tony Scott   \n",
      "550                       Peyton Reed   \n",
      "559                        Mike Judge   \n",
      "573                   Jonathan Dayton   \n",
      "593                      Andy Fickman   \n",
      "626                      Brett Ratner   \n",
      "632                      Bong Joon Ho   \n",
      "640                  Gabriele Muccino   \n",
      "669                      Edward Zwick   \n",
      "715                     George Miller   \n",
      "727                       Neil Burger   \n",
      "733                        Ron Howard   \n",
      "773                M. Night Shyamalan   \n",
      "774                  Darren Aronofsky   \n",
      "796                     Werner Herzog   \n",
      "815                         Spike Lee   \n",
      "830                Sylvester Stallone   \n",
      "858                     Alexandre Aja   \n",
      "869                       J.J. Abrams   \n",
      "885       Alejandro González Iñárritu   \n",
      "897                      Tarsem Singh   \n",
      "901                    David R. Ellis   \n",
      "908                        James Gunn   \n",
      "918                        Tom Tykwer   \n",
      "924                      Bryan Singer   \n",
      "935                        Adam McKay   \n",
      "959                     Paul McGuigan   \n",
      "965                       David Lynch   \n",
      "\n",
      "                                                Actors  Year  \\\n",
      "64   Christian Bale, Hugh Jackman, Scarlett Johanss...  2006   \n",
      "78   Johnny Depp, Orlando Bloom, Keira Knightley, J...  2006   \n",
      "99   Leonardo DiCaprio, Matt Damon, Jack Nicholson,...  2006   \n",
      "113  Gerard Butler, Lena Headey, David Wenham, Domi...  2006   \n",
      "164  Daniel Craig, Eva Green, Judi Dench, Jeffrey W...  2006   \n",
      "221  Owen Wilson, Bonnie Hunt, Paul Newman, Larry t...  2006   \n",
      "230  Ivana Baquero, Ariadna Gil, Sergi López,Maribe...  2006   \n",
      "232  Gerardo Taracena, Raoul Max Trujillo, Dalia He...  2006   \n",
      "246  Julianne Moore, Clive Owen, Chiwetel Ejiofor,M...  2006   \n",
      "297  Anne Hathaway, Meryl Streep, Adrian Grenier, E...  2006   \n",
      "308  Lucas Black, Zachery Ty Bryan, Shad Moss, Dami...  2006   \n",
      "320  Channing Tatum, Jenna Dewan Tatum, Damaine Rad...  2006   \n",
      "445  Radha Mitchell, Laurie Holden, Sean Bean,Debor...  2006   \n",
      "471  Kirsten Dunst, Jason Schwartzman, Rip Torn, Ju...  2006   \n",
      "476  Ulrich Mühe, Martina Gedeck,Sebastian Koch, Ul...  2006   \n",
      "530  Russell Crowe, Abbie Cornish, Albert Finney, M...  2006   \n",
      "532  Denzel Washington, Paula Patton, Jim Caviezel,...  2006   \n",
      "550  Jennifer Aniston, Vince Vaughn, Jon Favreau, J...  2006   \n",
      "559  Luke Wilson, Maya Rudolph, Dax Shepard, Terry ...  2006   \n",
      "573  Steve Carell, Toni Collette, Greg Kinnear, Abi...  2006   \n",
      "593  Amanda Bynes, Laura Ramsey, Channing Tatum,Vin...  2006   \n",
      "626  Patrick Stewart, Hugh Jackman, Halle Berry, Fa...  2006   \n",
      "632  Kang-ho Song, Hee-Bong Byun, Hae-il Park, Doon...  2006   \n",
      "640  Will Smith, Thandie Newton, Jaden Smith, Brian...  2006   \n",
      "669  Leonardo DiCaprio, Djimon Hounsou, Jennifer Co...  2006   \n",
      "715  Elijah Wood, Brittany Murphy, Hugh Jackman, Ro...  2006   \n",
      "727  Edward Norton, Jessica Biel, Paul Giamatti, Ru...  2006   \n",
      "733  Tom Hanks, Audrey Tautou, Jean Reno, Ian McKellen  2006   \n",
      "773  Paul Giamatti, Bryce Dallas Howard, Jeffrey Wr...  2006   \n",
      "774  Hugh Jackman, Rachel Weisz, Sean Patrick Thoma...  2006   \n",
      "796  Christian Bale, Steve Zahn, Jeremy Davies, Zac...  2006   \n",
      "815  Denzel Washington, Clive Owen, Jodie Foster,Ch...  2006   \n",
      "830  Sylvester Stallone, Antonio Tarver, Milo Venti...  2006   \n",
      "858  Ted Levine, Kathleen Quinlan, Dan Byrd, Emilie...  2006   \n",
      "869  Tom Cruise, Michelle Monaghan, Ving Rhames, Ph...  2006   \n",
      "885  Brad Pitt, Cate Blanchett, Gael García Bernal,...  2006   \n",
      "897  Lee Pace, Catinca Untaru, Justine Waddell, Kim...  2006   \n",
      "901  Samuel L. Jackson, Julianna Margulies, Nathan ...  2006   \n",
      "908  Nathan Fillion, Elizabeth Banks, Michael Rooke...  2006   \n",
      "918  Ben Whishaw, Dustin Hoffman, Alan Rickman,Fran...  2006   \n",
      "924  Brandon Routh, Kevin Spacey, Kate Bosworth, Ja...  2006   \n",
      "935  Will Ferrell, John C. Reilly, Sacha Baron Cohe...  2006   \n",
      "959  Josh Hartnett, Ben Kingsley, Morgan Freeman, L...  2006   \n",
      "965  Laura Dern, Jeremy Irons, Justin Theroux, Karo...  2006   \n",
      "\n",
      "     Runtime (Minutes)  Rating   Votes  Revenue (Millions)  Metascore  \n",
      "64                 130     8.5  913152               53.08       66.0  \n",
      "78                 151     7.3  552027              423.03       53.0  \n",
      "99                 151     8.5  937414              132.37       85.0  \n",
      "113                117     7.7  637104              210.59       52.0  \n",
      "164                144     8.0  495106              167.01       80.0  \n",
      "221                117     7.1  283445              244.05       73.0  \n",
      "230                118     8.2  498879               37.62       98.0  \n",
      "232                139     7.8  247926               50.86       68.0  \n",
      "246                109     7.9  382910               35.29       84.0  \n",
      "297                109     6.8  302268              124.73       62.0  \n",
      "308                104     6.0  193479               62.49       45.0  \n",
      "320                104     6.5   95960               65.27       48.0  \n",
      "445                125     6.6  184152               46.98        NaN  \n",
      "471                123     6.4   83941               15.96       65.0  \n",
      "476                137     8.5  278103               11.28       89.0  \n",
      "530                117     6.9   74674                7.46       47.0  \n",
      "532                126     7.0  253858                 NaN        NaN  \n",
      "550                106     5.8  106381              118.68       45.0  \n",
      "559                 84     6.6  115355                0.44       66.0  \n",
      "573                101     7.8  374044               59.89       80.0  \n",
      "593                105     6.4  122864                2.34       45.0  \n",
      "626                104     6.7  406540              234.36       58.0  \n",
      "632                120     7.0   73491                2.20       85.0  \n",
      "640                117     8.0  361105              162.59       64.0  \n",
      "669                143     8.0  422014               57.37       64.0  \n",
      "715                108     6.5  141141              197.99       77.0  \n",
      "727                110     7.6  309934               39.83       68.0  \n",
      "733                149     6.6  338280              217.54       46.0  \n",
      "773                110     5.6   82701               42.27       36.0  \n",
      "774                 96     7.3  199193               10.14       51.0  \n",
      "796                120     7.3   87887                5.48       77.0  \n",
      "815                129     7.6  285441               88.50       76.0  \n",
      "830                102     7.2  171356               70.27       63.0  \n",
      "858                107     6.4  136642               41.78       52.0  \n",
      "869                126     6.9  270429              133.38       66.0  \n",
      "885                143     7.5  253417               34.30       69.0  \n",
      "897                117     7.9   93036                2.28       64.0  \n",
      "901                105     5.6  118905               34.01       58.0  \n",
      "908                 95     6.5   64351                7.77       69.0  \n",
      "918                147     7.5  199387                2.21       56.0  \n",
      "924                154     6.1  246797              200.07       72.0  \n",
      "935                108     6.6  137502              148.21       66.0  \n",
      "959                110     7.8  271940               22.49       53.0  \n",
      "965                180     7.0   44227                 NaN        NaN  \n"
     ]
    }
   ],
   "source": [
    "df_yr = df[(df[\"Year\"]== año_it )]\n",
    "print(df_yr)"
   ]
  },
  {
   "cell_type": "code",
   "execution_count": 20,
   "id": "c601ab55",
   "metadata": {},
   "outputs": [
    {
     "name": "stdout",
     "output_type": "stream",
     "text": [
      "78  es la posicion de la pelicula con mayores canciones\n",
      "La pelicula con mayor ganancias del año:  2006  es\n",
      "Pirates of the Caribbean: Dead Man's Chest\n",
      "con un total de:  423.03  millones de dolares\n"
     ]
    }
   ],
   "source": [
    "print(df_yr[\"Revenue (Millions)\"].idxmax(), \" es la posicion de la pelicula con mayores canciones\") \n",
    "#print(df_yr.at[(df_yr[])])\n",
    "print(\"La pelicula con mayor ganancias del año: \",año_it,\" es\")\n",
    "print(df_yr.at[(df_yr['Revenue (Millions)'].idxmax(),'Title')])\n",
    "print(\"con un total de: \",df_yr[\"Revenue (Millions)\"].max(),\" millones de dolares\")"
   ]
  },
  {
   "cell_type": "markdown",
   "id": "1202e16e",
   "metadata": {},
   "source": [
    "**Representacion grafica de las peliculas que han habido por año**"
   ]
  },
  {
   "cell_type": "code",
   "execution_count": 21,
   "id": "de4b469e",
   "metadata": {},
   "outputs": [
    {
     "data": {
      "text/plain": [
       "(Text(0.5, 0, 'Año'),\n",
       " Text(0, 0.5, 'Cantidad de películas'),\n",
       " Text(0.5, 1.0, 'Películas por año'))"
      ]
     },
     "execution_count": 21,
     "metadata": {},
     "output_type": "execute_result"
    },
    {
     "data": {
      "image/png": "[encoded data removed]",
      "text/plain": [
       "<Figure size 432x288 with 1 Axes>"
      ]
     },
     "metadata": {
      "needs_background": "light"
     },
     "output_type": "display_data"
    }
   ],
   "source": [
    "df.Year.value_counts().sort_index().plot(color='green', linewidth = 2, marker='o', markerfacecolor='red', markersize=5)\n",
    "plt.xlabel(\"Año\"),plt.ylabel(\"Cantidad de películas\"),plt.title(\"Películas por año\")"
   ]
  }
 ],
 "metadata": {
  "kernelspec": {
   "display_name": "Python 3 (ipykernel)",
   "language": "python",
   "name": "python3"
  },
  "language_info": {
   "codemirror_mode": {
    "name": "ipython",
    "version": 3
   },
   "file_extension": ".py",
   "mimetype": "text/x-python",
   "name": "python",
   "nbconvert_exporter": "python",
   "pygments_lexer": "ipython3",
   "version": "3.9.12"
  }
 },
 "nbformat": 4,
 "nbformat_minor": 5
}
